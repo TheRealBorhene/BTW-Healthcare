{
  "cells": [
    {
      "cell_type": "markdown",
      "id": "7d90020f",
      "metadata": {
        "id": "7d90020f"
      },
      "source": [
        "# Breast Cancer Prediction using Random Forest"
      ]
    },
    {
      "cell_type": "code",
      "execution_count": null,
      "id": "78a023f5",
      "metadata": {
        "colab": {
          "base_uri": "https://localhost:8080/"
        },
        "id": "78a023f5",
        "outputId": "7e4dcbee-6cde-460c-e406-6b859cc09ecd"
      },
      "outputs": [
        {
          "output_type": "stream",
          "name": "stdout",
          "text": [
            "🎯 Accuracy globale : 0.9473684210526315\n",
            "🔍 Rapport de classification :\n",
            "               precision    recall  f1-score   support\n",
            "\n",
            "           0       0.91      0.95      0.93        43\n",
            "           1       0.97      0.94      0.96        71\n",
            "\n",
            "    accuracy                           0.95       114\n",
            "   macro avg       0.94      0.95      0.94       114\n",
            "weighted avg       0.95      0.95      0.95       114\n",
            "\n",
            "📊 Matrice de confusion :\n",
            " [[41  2]\n",
            " [ 4 67]]\n",
            "💾 Modèle et scaler sauvegardés avec succès.\n",
            "⚠️ Prédiction : Malin\n"
          ]
        },
        {
          "output_type": "stream",
          "name": "stderr",
          "text": [
            "/usr/local/lib/python3.11/dist-packages/sklearn/utils/validation.py:2739: UserWarning: X does not have valid feature names, but StandardScaler was fitted with feature names\n",
            "  warnings.warn(\n"
          ]
        }
      ],
      "source": [
        "# Breast Cancer Prediction (Random Forest)\n",
        "\n",
        "# 1. Importation des bibliothèques\n",
        "import pandas as pd\n",
        "import numpy as np\n",
        "from sklearn.model_selection import train_test_split\n",
        "from sklearn.preprocessing import StandardScaler\n",
        "from sklearn.ensemble import RandomForestClassifier\n",
        "from sklearn.metrics import classification_report, confusion_matrix\n",
        "from sklearn.metrics import accuracy_score\n",
        "\n",
        "import joblib\n",
        "\n",
        "# 2. Chargement des données\n",
        "df = pd.read_csv(\"Breast_cancer_data.csv\")\n",
        "\n",
        "# 3. Définition des variables explicatives (X) et cible (y)\n",
        "X = df.drop(\"diagnosis\", axis=1)\n",
        "y = df[\"diagnosis\"]\n",
        "\n",
        "# 4. Standardisation des variables\n",
        "scaler = StandardScaler()\n",
        "X_scaled = scaler.fit_transform(X)\n",
        "\n",
        "# 5. Division des données en entraînement et test\n",
        "X_train, X_test, y_train, y_test = train_test_split(X_scaled, y, test_size=0.2, random_state=42)\n",
        "\n",
        "# 6. Entraînement du modèle Random Forest\n",
        "model = RandomForestClassifier(random_state=42)\n",
        "model.fit(X_train, y_train)\n",
        "\n",
        "# 7. Évaluation du modèle\n",
        "y_pred = model.predict(X_test)\n",
        "print(\"🎯 Accuracy globale :\", accuracy_score(y_test, y_pred))\n",
        "\n",
        "print(\"🔍 Rapport de classification :\\n\", classification_report(y_test, y_pred))\n",
        "print(\"📊 Matrice de confusion :\\n\", confusion_matrix(y_test, y_pred))\n",
        "\n",
        "# 8. Sauvegarde du modèle et du scaler\n",
        "joblib.dump(model, \"breast_model.pkl\")\n",
        "joblib.dump(scaler, \"scaler.pkl\")\n",
        "print(\"💾 Modèle et scaler sauvegardés avec succès.\")\n",
        "\n",
        "# 9. Test rapide avec un cas de prédiction\n",
        "test_values = [[20.57, 17.77, 132.9, 1326.0, 0.08474]]  # Cas malin connu\n",
        "test_scaled = scaler.transform(test_values)\n",
        "prediction = model.predict(test_scaled)[0]\n",
        "\n",
        "# 10. Affichage du résultat de prédiction\n",
        "if prediction == 1:\n",
        "    print(\"✅ Prédiction : Bénin\")\n",
        "else:\n",
        "    print(\"⚠️ Prédiction : Malin\")\n"
      ]
    },
    {
      "cell_type": "code",
      "source": [
        "# Test prédiction : Cas bénin\n",
        "# Exemple : [mean_radius, mean_texture, mean_perimeter, mean_area, mean_smoothness]\n",
        "test_values_benign = [[13.54, 14.36, 87.46, 566.3, 0.09779]]  # Cas bénin connu\n",
        "\n",
        "# Charger les objets\n",
        "import joblib\n",
        "model = joblib.load(\"breast_model.pkl\")\n",
        "scaler = joblib.load(\"scaler.pkl\")\n",
        "\n",
        "# Standardisation et prédiction\n",
        "test_scaled_benign = scaler.transform(test_values_benign)\n",
        "prediction_benign = model.predict(test_scaled_benign)[0]\n",
        "\n",
        "# Résultat\n",
        "if prediction_benign == 1:\n",
        "    print(\"✅ Prédiction : Bénin\")\n",
        "else:\n",
        "    print(\"⚠️ Prédiction : Malin\")\n"
      ],
      "metadata": {
        "colab": {
          "base_uri": "https://localhost:8080/"
        },
        "id": "pa4jX7Uj32zX",
        "outputId": "f1ad8b18-936a-42e1-d70f-b178e495a170"
      },
      "id": "pa4jX7Uj32zX",
      "execution_count": null,
      "outputs": [
        {
          "output_type": "stream",
          "name": "stdout",
          "text": [
            "✅ Prédiction : Bénin\n"
          ]
        },
        {
          "output_type": "stream",
          "name": "stderr",
          "text": [
            "/usr/local/lib/python3.11/dist-packages/sklearn/utils/validation.py:2739: UserWarning: X does not have valid feature names, but StandardScaler was fitted with feature names\n",
            "  warnings.warn(\n"
          ]
        }
      ]
    }
  ],
  "metadata": {
    "colab": {
      "provenance": []
    },
    "language_info": {
      "name": "python"
    },
    "kernelspec": {
      "name": "python3",
      "display_name": "Python 3"
    }
  },
  "nbformat": 4,
  "nbformat_minor": 5
}
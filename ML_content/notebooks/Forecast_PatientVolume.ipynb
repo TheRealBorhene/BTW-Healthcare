{
 "cells": [
  {
   "cell_type": "markdown",
   "id": "353e8da2",
   "metadata": {},
   "source": [
    "# 📈 Forecasting Patient Volume using ARIMA and SARIMA\n",
    "This notebook prepares time series data from patient records and forecasts future values using ARIMA and SARIMA models."
   ]
  },
  {
   "cell_type": "code",
   "execution_count": null,
   "id": "78f799ed",
   "metadata": {},
   "outputs": [],
   "source": [
    "import pandas as pd\n",
    "import numpy as np\n",
    "import matplotlib.pyplot as plt\n",
    "import seaborn as sns\n",
    "from statsmodels.tsa.arima.model import ARIMA\n",
    "from statsmodels.tsa.statespace.sarimax import SARIMAX\n",
    "from sklearn.metrics import mean_absolute_error, mean_squared_error\n",
    "from math import sqrt\n"
   ]
  },
  {
   "cell_type": "code",
   "execution_count": null,
   "id": "40bd5851",
   "metadata": {},
   "outputs": [],
   "source": [
    "# Load original data\n",
    "df = pd.read_csv(\"PatientVolumeTS.csv\")\n",
    "df['Full_Date'] = pd.to_datetime(df['Full_Date'], errors='coerce')\n",
    "df = df.dropna(subset=['Full_Date'])\n",
    "df['Year'] = df['Full_Date'].dt.year\n",
    "\n",
    "# Aggregate by year\n",
    "patient_volume_by_year = df.groupby('Year').size().reset_index(name='Patient_Volume')\n",
    "\n",
    "# Create complete yearly range\n",
    "all_years = pd.DataFrame({'Year': range(df['Year'].min(), df['Year'].max() + 1)})\n",
    "full_series = pd.merge(all_years, patient_volume_by_year, on='Year', how='left').fillna(0)\n",
    "full_series['Patient_Volume'] = full_series['Patient_Volume'].astype(int)\n",
    "full_series['Date'] = pd.to_datetime(full_series['Year'], format='%Y')\n",
    "full_series.set_index('Date', inplace=True)\n",
    "\n",
    "# Display series\n",
    "full_series[['Patient_Volume']].plot(figsize=(12,5), marker='o', title='📊 Patient Volume Over Time')\n",
    "plt.ylabel(\"Patient Volume\")\n",
    "plt.grid(True)\n",
    "plt.tight_layout()\n",
    "plt.show()\n"
   ]
  },
  {
   "cell_type": "code",
   "execution_count": null,
   "id": "560490dd",
   "metadata": {},
   "outputs": [],
   "source": [
    "# Use data up to the last 5 years for training\n",
    "train = full_series.iloc[:-5]\n",
    "test = full_series.iloc[-5:]\n",
    "\n",
    "train_series = train['Patient_Volume']\n",
    "test_series = test['Patient_Volume']\n"
   ]
  },
  {
   "cell_type": "code",
   "execution_count": null,
   "id": "1ccc0ad6",
   "metadata": {},
   "outputs": [],
   "source": [
    "# ARIMA Model\n",
    "arima_model = ARIMA(train_series, order=(1,1,1))\n",
    "arima_result = arima_model.fit()\n",
    "\n",
    "# Forecast\n",
    "arima_forecast = arima_result.forecast(steps=5)\n",
    "arima_forecast.index = test.index\n",
    "\n",
    "# Plot\n",
    "plt.figure(figsize=(12,5))\n",
    "plt.plot(train_series, label=\"Train\")\n",
    "plt.plot(test_series, label=\"Actual\")\n",
    "plt.plot(arima_forecast, label=\"ARIMA Forecast\", linestyle='--')\n",
    "plt.title(\"🔮 ARIMA Forecast vs Actual\")\n",
    "plt.legend()\n",
    "plt.grid(True)\n",
    "plt.tight_layout()\n",
    "plt.show()\n",
    "\n",
    "# Metrics\n",
    "arima_mae = mean_absolute_error(test_series, arima_forecast)\n",
    "arima_rmse = sqrt(mean_squared_error(test_series, arima_forecast))\n",
    "print(f\"ARIMA MAE: {arima_mae:.2f}\")\n",
    "print(f\"ARIMA RMSE: {arima_rmse:.2f}\")\n"
   ]
  },
  {
   "cell_type": "code",
   "execution_count": null,
   "id": "1e17c2f6",
   "metadata": {},
   "outputs": [],
   "source": [
    "# SARIMA Model\n",
    "sarima_model = SARIMAX(train_series, order=(1,1,1), seasonal_order=(1,1,1,12))\n",
    "sarima_result = sarima_model.fit(disp=False)\n",
    "\n",
    "# Forecast\n",
    "sarima_forecast = sarima_result.forecast(steps=5)\n",
    "sarima_forecast.index = test.index\n",
    "\n",
    "# Plot\n",
    "plt.figure(figsize=(12,5))\n",
    "plt.plot(train_series, label=\"Train\")\n",
    "plt.plot(test_series, label=\"Actual\")\n",
    "plt.plot(sarima_forecast, label=\"SARIMA Forecast\", linestyle='--')\n",
    "plt.title(\"🔮 SARIMA Forecast vs Actual\")\n",
    "plt.legend()\n",
    "plt.grid(True)\n",
    "plt.tight_layout()\n",
    "plt.show()\n",
    "\n",
    "# Metrics\n",
    "sarima_mae = mean_absolute_error(test_series, sarima_forecast)\n",
    "sarima_rmse = sqrt(mean_squared_error(test_series, sarima_forecast))\n",
    "print(f\"SARIMA MAE: {sarima_mae:.2f}\")\n",
    "print(f\"SARIMA RMSE: {sarima_rmse:.2f}\")\n"
   ]
  },
  {
   "cell_type": "code",
   "execution_count": null,
   "id": "ce6bfa72",
   "metadata": {},
   "outputs": [],
   "source": [
    "print(\"📊 Model Comparison:\")\n",
    "print(f\"ARIMA  -> MAE: {arima_mae:.2f}, RMSE: {arima_rmse:.2f}\")\n",
    "print(f\"SARIMA -> MAE: {sarima_mae:.2f}, RMSE: {sarima_rmse:.2f}\")\n",
    "better_model = \"SARIMA\" if sarima_rmse < arima_rmse else \"ARIMA\"\n",
    "print(f\"✅ Better model based on RMSE: {better_model}\")\n"
   ]
  }
 ],
 "metadata": {},
 "nbformat": 4,
 "nbformat_minor": 5
}
